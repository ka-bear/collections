{
 "cells": [
  {
   "cell_type": "markdown",
   "metadata": {
    "id": "6dDQaej0vnGt"
   },
   "source": [
    "## Author's note"
   ]
  },
  {
   "cell_type": "markdown",
   "metadata": {
    "id": "M1KkQ8IxvnGt"
   },
   "source": [
    "Based off wee zen's notebook but now there's attention"
   ]
  },
  {
   "cell_type": "markdown",
   "metadata": {
    "id": "kOom_XW1vnGt"
   },
   "source": [
    "## Imports and setup"
   ]
  },
  {
   "cell_type": "code",
   "execution_count": 1,
   "metadata": {
    "colab": {
     "base_uri": "https://localhost:8080/"
    },
    "id": "DTWddBCdvnGt",
    "outputId": "da33b6eb-f818-4093-be33-fce60d683bc0"
   },
   "outputs": [
    {
     "name": "stderr",
     "output_type": "stream",
     "text": [
      "[nltk_data] Downloading package punkt to /root/nltk_data...\n",
      "[nltk_data]   Package punkt is already up-to-date!\n",
      "[nltk_data] Downloading package punkt_tab to /root/nltk_data...\n",
      "[nltk_data]   Package punkt_tab is already up-to-date!\n"
     ]
    },
    {
     "data": {
      "text/plain": [
       "True"
      ]
     },
     "execution_count": 1,
     "metadata": {},
     "output_type": "execute_result"
    }
   ],
   "source": [
    "import torch\n",
    "import torch.nn as nn\n",
    "import torch.optim as optim\n",
    "from torch.utils.data import DataLoader, Dataset, random_split\n",
    "import nltk\n",
    "from nltk.tokenize import word_tokenize\n",
    "from collections import Counter\n",
    "import numpy as np\n",
    "import pandas as pd\n",
    "\n",
    "torch.manual_seed(0)\n",
    "np.random.seed(0)\n",
    "\n",
    "nltk.download('punkt')\n",
    "nltk.download('punkt_tab')"
   ]
  },
  {
   "cell_type": "markdown",
   "metadata": {
    "id": "5TL--NNavnGt"
   },
   "source": [
    "### Hyperparameters"
   ]
  },
  {
   "cell_type": "code",
   "execution_count": 16,
   "metadata": {
    "id": "bcnWUcCovnGt"
   },
   "outputs": [],
   "source": [
    "# Preprocessing parameters\n",
    "MAX_LENGTH = 50\n",
    "VOCAB_SIZE = 10000\n",
    "BATCH_SIZE = 32\n",
    "EPOCHS = 5\n",
    "LEARNING_RATE = 0.001\n",
    "TRAIN_RATIO, VAL_RATIO = 0.9, 0.1"
   ]
  },
  {
   "cell_type": "markdown",
   "metadata": {
    "id": "Xp_riOfKvnGt"
   },
   "source": [
    "## Datasets: Parquet to \"df\""
   ]
  },
  {
   "cell_type": "code",
   "execution_count": 3,
   "metadata": {
    "id": "ARkqorFlvnGt"
   },
   "outputs": [],
   "source": [
    "# Load AG News dataset from Parquet files\n",
    "train_df = pd.read_parquet(\"ag_news_train.parquet\")\n",
    "test_df = pd.read_parquet(\"ag_news_test.parquet\")"
   ]
  },
  {
   "cell_type": "code",
   "execution_count": 4,
   "metadata": {
    "colab": {
     "base_uri": "https://localhost:8080/"
    },
    "id": "pgLM-QkUvnGt",
    "outputId": "fa308035-13eb-4e9d-c5c5-37fd64331a39"
   },
   "outputs": [
    {
     "data": {
      "text/plain": [
       "12000"
      ]
     },
     "execution_count": 4,
     "metadata": {},
     "output_type": "execute_result"
    }
   ],
   "source": [
    "val_size = int(len(train_df) * VAL_RATIO)\n",
    "val_size"
   ]
  },
  {
   "cell_type": "code",
   "execution_count": 5,
   "metadata": {
    "id": "SsX64iG2vnGt"
   },
   "outputs": [],
   "source": [
    "train_size = int(len(train_df) * TRAIN_RATIO)\n",
    "val_size = int(len(train_df) * VAL_RATIO)\n",
    "train_df, val_df = torch.utils.data.random_split(train_df, [train_size, val_size])"
   ]
  },
  {
   "cell_type": "markdown",
   "metadata": {
    "id": "hXxee_2vvnGt"
   },
   "source": [
    "## Build vocab"
   ]
  },
  {
   "cell_type": "code",
   "execution_count": 6,
   "metadata": {
    "id": "ms2DbQxlvnGt"
   },
   "outputs": [],
   "source": [
    "# Tokenization and vocabulary building\n",
    "counter = Counter()\n",
    "for sample in train_df.dataset[\"text\"]:\n",
    "    tokens = word_tokenize(sample.lower())\n",
    "    counter.update(tokens)\n",
    "\n",
    "vocab = {word: i+1 for i, (word, _) in enumerate(counter.most_common(VOCAB_SIZE))}\n",
    "vocab[\"<UNK>\"] = VOCAB_SIZE + 1\n",
    "\n",
    "def encode_text(text):\n",
    "    tokens = word_tokenize(text.lower())\n",
    "    return [vocab.get(token, vocab[\"<UNK>\"]) for token in tokens][:MAX_LENGTH] + [0] * (MAX_LENGTH - len(tokens))"
   ]
  },
  {
   "cell_type": "code",
   "execution_count": 8,
   "metadata": {
    "colab": {
     "base_uri": "https://localhost:8080/"
    },
    "id": "xzBsZ1fcvnGt",
    "outputId": "da6f5f3a-a874-4ae1-8579-0648335097dc"
   },
   "outputs": [
    {
     "data": {
      "text/plain": [
       "10001"
      ]
     },
     "execution_count": 8,
     "metadata": {},
     "output_type": "execute_result"
    }
   ],
   "source": [
    "len(vocab.values())"
   ]
  },
  {
   "cell_type": "markdown",
   "metadata": {
    "id": "yrRAm-0mvnGt"
   },
   "source": [
    "## Datasets: \"df\" to DataLoader"
   ]
  },
  {
   "cell_type": "code",
   "execution_count": 7,
   "metadata": {
    "id": "D4LhbUwovnGt"
   },
   "outputs": [],
   "source": [
    "# Custom PyTorch dataset class\n",
    "class AGNewsDataset(Dataset):\n",
    "    def __init__(self, dataframe):\n",
    "        self.texts = [torch.tensor(encode_text(text), dtype=torch.long) for text in dataframe[\"text\"]]\n",
    "        self.labels = torch.tensor(dataframe[\"label\"].values, dtype=torch.long)\n",
    "\n",
    "    def __len__(self):\n",
    "        return len(self.labels)\n",
    "\n",
    "    def __getitem__(self, idx):\n",
    "        return self.texts[idx], self.labels[idx]"
   ]
  },
  {
   "cell_type": "code",
   "execution_count": 9,
   "metadata": {
    "id": "kYU8MNsivnGt"
   },
   "outputs": [],
   "source": [
    "# Load data\n",
    "train_dataset = AGNewsDataset(train_df.dataset.iloc[train_df.indices])\n",
    "val_dataset = AGNewsDataset(val_df.dataset.iloc[val_df.indices])\n",
    "test_dataset = AGNewsDataset(test_df)\n",
    "\n",
    "train_loader = DataLoader(train_dataset, batch_size=BATCH_SIZE, shuffle=True)\n",
    "val_loader = DataLoader(val_dataset, batch_size=BATCH_SIZE)\n",
    "test_loader = DataLoader(test_dataset, batch_size=BATCH_SIZE)"
   ]
  },
  {
   "cell_type": "markdown",
   "metadata": {
    "id": "NlvYrSlSvnGt"
   },
   "source": [
    "## Model"
   ]
  },
  {
   "cell_type": "code",
   "execution_count": 10,
   "metadata": {
    "id": "XM1iky9xvnGt"
   },
   "outputs": [],
   "source": [
    "class SelfAttention(nn.Module):\n",
    "    def __init__(self, input_dim, dropout_rate=0.5):\n",
    "        super(SelfAttention, self).__init__()\n",
    "        self.input_dim = input_dim\n",
    "        self.query = nn.Linear(input_dim, input_dim)  # Linear layer for queries\n",
    "        self.key = nn.Linear(input_dim, input_dim)    # Linear layer for keys\n",
    "        self.value = nn.Linear(input_dim, input_dim)  # Linear layer for values\n",
    "        self.softmax = nn.Softmax(dim=-1)             # Softmax over the last dimension\n",
    "        self.dropout = nn.Dropout(dropout_rate)       # Dropout layer\n",
    "\n",
    "    def forward(self, x):  # x.shape (batch_size, seq_length, input_dim)\n",
    "        batch_size, seq_length, _ = x.size()\n",
    "\n",
    "        queries = self.query(x)  # Shape: (batch_size, seq_length, input_dim)\n",
    "        keys = self.key(x)        # Shape: (batch_size, seq_length, input_dim)\n",
    "        values = self.value(x)    # Shape: (batch_size, seq_length, input_dim)\n",
    "\n",
    "        # Compute attention scores\n",
    "        score = torch.bmm(queries, keys.transpose(1, 2)) / (self.input_dim ** 0.5)  # Shape: (batch_size, seq_length, seq_length)\n",
    "\n",
    "        attention = self.softmax(score)  # Shape: (batch_size, seq_length, seq_length)\n",
    "        attention = self.dropout(attention)  # Apply dropout to attention weights\n",
    "\n",
    "        weighted = torch.bmm(attention, values)  # Shape: (batch_size, seq_length, input_dim)\n",
    "        return weighted\n"
   ]
  },
  {
   "cell_type": "code",
   "execution_count": 11,
   "metadata": {
    "id": "MeEMpH8VvnGt"
   },
   "outputs": [],
   "source": [
    "# Model definition\n",
    "class TextClassifier(nn.Module):\n",
    "    def __init__(self, vocab_size, embed_dim, hidden_dim, num_classes):\n",
    "        super(TextClassifier, self).__init__()\n",
    "        self.attn = SelfAttention(embed_dim)\n",
    "        self.dropout = nn.Dropout(0.5)\n",
    "        self.lnorm = nn.LayerNorm(embed_dim)\n",
    "        self.embedding = nn.Embedding(vocab_size + 2, embed_dim)\n",
    "        self.lstm = nn.LSTM(embed_dim , hidden_dim, batch_first=True)\n",
    "        self.fc = nn.Linear(hidden_dim, num_classes)\n",
    "\n",
    "    def forward(self, x):\n",
    "        x = self.embedding(x)\n",
    "        x = self.attn(x) + x #attn, add+norm\n",
    "        x = self.lnorm(x)\n",
    "        x = self.dropout(x) #some dropouts\n",
    "        x, _ = self.lstm(x)\n",
    "        x = self.dropout(x)\n",
    "        return self.fc(x[:, -1, :])\n",
    "\n",
    "# Initialize model\n",
    "model = TextClassifier(VOCAB_SIZE, 128, 128, 4)\n",
    "device = torch.device(\"mps\" if torch.backends.mps.is_available() else (\"cuda\" if torch.cuda.is_available() else \"cpu\"))\n",
    "model.to(device)\n",
    "\n",
    "# Loss and optimizer\n",
    "criterion = nn.CrossEntropyLoss()\n",
    "optimizer = optim.Adam(model.parameters(), lr=LEARNING_RATE)"
   ]
  },
  {
   "cell_type": "markdown",
   "metadata": {
    "id": "O0zirca0vnGt"
   },
   "source": [
    "## Train"
   ]
  },
  {
   "cell_type": "code",
   "execution_count": 12,
   "metadata": {
    "id": "dAxVjxgyvnGt"
   },
   "outputs": [],
   "source": [
    "# Training function\n",
    "def train(model, loader):\n",
    "    model.train()\n",
    "    total_loss, correct = 0, 0\n",
    "    for texts, labels in loader:\n",
    "        texts, labels = texts.to(device), labels.to(device)\n",
    "        optimizer.zero_grad()\n",
    "        outputs = model(texts)\n",
    "        loss = criterion(outputs, labels)\n",
    "        loss.backward()\n",
    "        optimizer.step()\n",
    "        total_loss += loss.item()\n",
    "        correct += (outputs.argmax(1) == labels).sum().item()\n",
    "    return total_loss / len(loader), correct / len(train_dataset)\n",
    "\n",
    "# Validation function\n",
    "def validate(model, loader):\n",
    "    model.eval()\n",
    "    total_loss, correct = 0, 0\n",
    "    with torch.no_grad():\n",
    "        for texts, labels in loader:\n",
    "            texts, labels = texts.to(device), labels.to(device)\n",
    "            outputs = model(texts)\n",
    "            loss = criterion(outputs, labels)\n",
    "            total_loss += loss.item()\n",
    "            correct += (outputs.argmax(1) == labels).sum().item()\n",
    "    return total_loss / len(loader), correct / len(val_dataset)\n",
    "\n",
    "# Testing function\n",
    "def test(model, loader):\n",
    "    model.eval()\n",
    "    total_loss, correct = 0, 0\n",
    "    with torch.no_grad():\n",
    "        for texts, labels in loader:\n",
    "            texts, labels = texts.to(device), labels.to(device)\n",
    "            outputs = model(texts)\n",
    "            loss = criterion(outputs, labels)\n",
    "            total_loss += loss.item()\n",
    "            correct += (outputs.argmax(1) == labels).sum().item()\n",
    "    return total_loss / len(loader), correct / len(test_dataset)"
   ]
  },
  {
   "cell_type": "code",
   "execution_count": 17,
   "metadata": {
    "colab": {
     "base_uri": "https://localhost:8080/"
    },
    "id": "4e-Csn_OvnGt",
    "outputId": "bd5f3068-9b9e-41cc-a2a9-89003f1c9400"
   },
   "outputs": [
    {
     "name": "stdout",
     "output_type": "stream",
     "text": [
      "Epoch 1: Train Loss 0.2191, Train Acc 0.9263, Val Loss 0.2674, Val Acc 0.9075\n",
      "Epoch 2: Train Loss 0.2092, Train Acc 0.9296, Val Loss 0.2654, Val Acc 0.9100\n",
      "Epoch 3: Train Loss 0.2031, Train Acc 0.9319, Val Loss 0.2680, Val Acc 0.9102\n",
      "Epoch 4: Train Loss 0.1995, Train Acc 0.9335, Val Loss 0.2673, Val Acc 0.9107\n",
      "Epoch 5: Train Loss 0.1930, Train Acc 0.9353, Val Loss 0.2783, Val Acc 0.9117\n"
     ]
    }
   ],
   "source": [
    "# Training loop\n",
    "for epoch in range(EPOCHS):\n",
    "    train_loss, train_acc = train(model, train_loader)\n",
    "    val_loss, val_acc = validate(model, val_loader)\n",
    "    print(f\"Epoch {epoch+1}: Train Loss {train_loss:.4f}, Train Acc {train_acc:.4f}, Val Loss {val_loss:.4f}, Val Acc {val_acc:.4f}\")"
   ]
  },
  {
   "cell_type": "markdown",
   "metadata": {
    "id": "32rnCBFpvnG9"
   },
   "source": [
    "## Test"
   ]
  },
  {
   "cell_type": "code",
   "execution_count": 18,
   "metadata": {
    "colab": {
     "base_uri": "https://localhost:8080/"
    },
    "id": "5i1SX4OnvnG9",
    "outputId": "d735ad75-cdb5-419f-8b04-c53de6c58b32"
   },
   "outputs": [
    {
     "name": "stdout",
     "output_type": "stream",
     "text": [
      "Test Loss 0.2941, Test Acc 0.9051\n"
     ]
    }
   ],
   "source": [
    "# Final test evaluation\n",
    "test_loss, test_acc = test(model, test_loader)\n",
    "print(f\"Test Loss {test_loss:.4f}, Test Acc {test_acc:.4f}\")"
   ]
  },
  {
   "cell_type": "markdown",
   "metadata": {
    "id": "cE00IG_3vnG9"
   },
   "source": [
    "## Save model"
   ]
  },
  {
   "cell_type": "code",
   "execution_count": null,
   "metadata": {
    "id": "4mgO_JosvnG9"
   },
   "outputs": [],
   "source": [
    "# Save the model\n",
    "torch.save(model.state_dict(), \"text_classifier.pth\")"
   ]
  }
 ],
 "metadata": {
  "accelerator": "GPU",
  "colab": {
   "gpuType": "T4",
   "provenance": []
  },
  "kernelspec": {
   "display_name": "Python 3 (ipykernel)",
   "language": "python",
   "name": "python3"
  },
  "language_info": {
   "codemirror_mode": {
    "name": "ipython",
    "version": 3
   },
   "file_extension": ".py",
   "mimetype": "text/x-python",
   "name": "python",
   "nbconvert_exporter": "python",
   "pygments_lexer": "ipython3",
   "version": "3.11.2"
  }
 },
 "nbformat": 4,
 "nbformat_minor": 1
}
