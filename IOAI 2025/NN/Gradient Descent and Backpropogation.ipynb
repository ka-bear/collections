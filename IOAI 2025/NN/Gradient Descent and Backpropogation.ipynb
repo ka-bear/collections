{
 "cells": [
  {
   "cell_type": "markdown",
   "id": "dd0dce0c-2bbd-44fa-a9dd-0e9dc7f13f1c",
   "metadata": {},
   "source": [
    "# Gradient Descent & Backpropagation"
   ]
  },
  {
   "cell_type": "markdown",
   "id": "46b55d96-be69-4126-94e3-7c6b750ad074",
   "metadata": {},
   "source": [
    "Please read the required slides in `L05_gradient-descent_slides.pdf`. This notebook is a continuation of the Perceptron Basics notebook.\n",
    "### Learning Aims\n",
    "- Be confident in the internal workings of backpropagation through the application of gradient descent\n",
    "- Use Pytorch to automatically backpropogate models."
   ]
  },
  {
   "cell_type": "code",
   "execution_count": 1,
   "id": "b3e70fae-e0d1-4399-aa92-8db8b44e25a1",
   "metadata": {},
   "outputs": [
    {
     "name": "stdout",
     "output_type": "stream",
     "text": [
      "Requirement already satisfied: numpy in /home/walnit/Documents/NOAI/.env/lib/python3.13/site-packages (2.2.2)\n",
      "Requirement already satisfied: matplotlib in /home/walnit/Documents/NOAI/.env/lib/python3.13/site-packages (3.10.0)\n",
      "Requirement already satisfied: torch in /home/walnit/Documents/NOAI/.env/lib/python3.13/site-packages (2.6.0+cpu)\n",
      "Requirement already satisfied: pandas in /home/walnit/Documents/NOAI/.env/lib/python3.13/site-packages (2.2.3)\n",
      "Requirement already satisfied: contourpy>=1.0.1 in /home/walnit/Documents/NOAI/.env/lib/python3.13/site-packages (from matplotlib) (1.3.1)\n",
      "Requirement already satisfied: cycler>=0.10 in /home/walnit/Documents/NOAI/.env/lib/python3.13/site-packages (from matplotlib) (0.12.1)\n",
      "Requirement already satisfied: fonttools>=4.22.0 in /home/walnit/Documents/NOAI/.env/lib/python3.13/site-packages (from matplotlib) (4.55.8)\n",
      "Requirement already satisfied: kiwisolver>=1.3.1 in /home/walnit/Documents/NOAI/.env/lib/python3.13/site-packages (from matplotlib) (1.4.8)\n",
      "Requirement already satisfied: packaging>=20.0 in /home/walnit/Documents/NOAI/.env/lib/python3.13/site-packages (from matplotlib) (24.2)\n",
      "Requirement already satisfied: pillow>=8 in /home/walnit/Documents/NOAI/.env/lib/python3.13/site-packages (from matplotlib) (11.1.0)\n",
      "Requirement already satisfied: pyparsing>=2.3.1 in /home/walnit/Documents/NOAI/.env/lib/python3.13/site-packages (from matplotlib) (3.2.1)\n",
      "Requirement already satisfied: python-dateutil>=2.7 in /home/walnit/Documents/NOAI/.env/lib/python3.13/site-packages (from matplotlib) (2.9.0.post0)\n",
      "Requirement already satisfied: filelock in /home/walnit/Documents/NOAI/.env/lib/python3.13/site-packages (from torch) (3.13.1)\n",
      "Requirement already satisfied: typing-extensions>=4.10.0 in /home/walnit/Documents/NOAI/.env/lib/python3.13/site-packages (from torch) (4.12.2)\n",
      "Requirement already satisfied: networkx in /home/walnit/Documents/NOAI/.env/lib/python3.13/site-packages (from torch) (3.3)\n",
      "Requirement already satisfied: jinja2 in /home/walnit/Documents/NOAI/.env/lib/python3.13/site-packages (from torch) (3.1.5)\n",
      "Requirement already satisfied: fsspec in /home/walnit/Documents/NOAI/.env/lib/python3.13/site-packages (from torch) (2024.6.1)\n",
      "Requirement already satisfied: setuptools in /home/walnit/Documents/NOAI/.env/lib/python3.13/site-packages (from torch) (75.8.0)\n",
      "Requirement already satisfied: sympy==1.13.1 in /home/walnit/Documents/NOAI/.env/lib/python3.13/site-packages (from torch) (1.13.1)\n",
      "Requirement already satisfied: mpmath<1.4,>=1.1.0 in /home/walnit/Documents/NOAI/.env/lib/python3.13/site-packages (from sympy==1.13.1->torch) (1.3.0)\n",
      "Requirement already satisfied: pytz>=2020.1 in /home/walnit/Documents/NOAI/.env/lib/python3.13/site-packages (from pandas) (2025.1)\n",
      "Requirement already satisfied: tzdata>=2022.7 in /home/walnit/Documents/NOAI/.env/lib/python3.13/site-packages (from pandas) (2025.1)\n",
      "Requirement already satisfied: six>=1.5 in /home/walnit/Documents/NOAI/.env/lib/python3.13/site-packages (from python-dateutil>=2.7->matplotlib) (1.17.0)\n",
      "Requirement already satisfied: MarkupSafe>=2.0 in /home/walnit/Documents/NOAI/.env/lib/python3.13/site-packages (from jinja2->torch) (3.0.2)\n"
     ]
    }
   ],
   "source": [
    "! pip install numpy matplotlib torch pandas"
   ]
  },
  {
   "cell_type": "code",
   "execution_count": 2,
   "id": "55f81560-1201-4530-b52c-66335e42ccf1",
   "metadata": {},
   "outputs": [],
   "source": [
    "import matplotlib.pyplot as plt\n",
    "import pandas as pd\n",
    "import torch"
   ]
  },
  {
   "cell_type": "markdown",
   "id": "bae9993c-4a5a-41d1-bf98-0e751cb48c99",
   "metadata": {},
   "source": [
    "### Is Gradient Descent = Backpropogation?\n",
    "No.  \n",
    "Aptly described by Wang Zerui, Gradient Descent is a process. This means there are many ways you can do it, all found in the `torch.optim` library, like SGD and Adam. On the other hand, backpropagation is just an algorithm, used to find the gradients for each weight.  \n",
    "Its easy to confuse the two because they are so tightly intertwined - you cannot have any gradient descent algorithm without the gradient, which is from backpropagation. Still, the most important thing is to have an intuition of the concept - it's unlikely they will test you any of this anyways. To get a really good grasp of that intuition, watch [3Blue1Brown's Deep Learning series](https://www.youtube.com/playlist?list=PLZHQObOWTQDNU6R1_67000Dx_ZCJB-3pi), especially episodes DL2-DL4 (~45 mins total).  \n",
    "\n",
    "### Implementing a Perceptron... again?\n",
    "#### A differentiable Activation Function\n",
    "The original perceptron has a piecewise activation function. What if we wanted something more real - lets say the logistic function - that will allow us to give non-binary outputs?  \n",
    "This is where the backpropagation process kicks in. From the overall error, we need to find how each of the weights has contributed to the error, then correct for them (to what extent depends on your gradient descent algorithm).  \n",
    "For this example, let's train the exact same perceptron as last notebook, but using the logistic function as the activation function. (Fun fact: it's no longer called a perceptron so let's call it a neuron)  \n",
    "#### \\_\\_init\\_\\_, forward\n",
    "These are equivalent in function to our previous perceptron in Perceptron Basics. Note that we use torch' functions now instead of numpy.\n",
    "#### activation_func\n",
    "This is the logistic/sigmoid function! \n",
    "#### netinput_func\n",
    "This is `linear` in the previous notebook, now seperated into a seperate function.\n",
    "#### backward\n",
    "The first thing to understand before reading the code is the notation: grad_X_Y refers to the gradient of X with respect to Y, or dX/dY.  \n",
    "Now, we need to backpropagate. For each weight, we want to find the gradient of the loss with respect to the weight - in other words, how the weight has influenced the loss. Given the equation `activate(Wx + b)`, you would have to do quite a bit of differentiation to get to the equations below. I would include the equations if I knew how to use Latex, but now it can only be left as a highly highly recommended exercise for the reader. Once you do that, all the equations will immediately make sense (and you want to feel like you understand fully, don't you?)  \n",
    "  \n",
    "Note that our loss function is simply MSE (the one that comes out when you Google it!)"
   ]
  },
  {
   "cell_type": "code",
   "execution_count": 3,
   "id": "49d52612-b223-4734-b04b-3f428905ee06",
   "metadata": {},
   "outputs": [],
   "source": [
    "class NeuronModel():\n",
    "    def __init__(self, num_features):\n",
    "        self.num_features = num_features\n",
    "        self.weights = torch.zeros(num_features, 1,\n",
    "                                   dtype=torch.float)\n",
    "        self.bias = torch.zeros(1, dtype=torch.float)\n",
    "\n",
    "    def activation_func(self, x): \n",
    "        return 1. / (1. + torch.exp(-x)) # This is the logistic function!\n",
    "\n",
    "    def netinput_func(self, x, w, b):\n",
    "         return torch.add(torch.mm(x, w), b)\n",
    "\n",
    "    def forward(self, x):\n",
    "        netinputs = self.netinput_func(x, self.weights, self.bias)\n",
    "        activations = self.activation_func(netinputs)\n",
    "        return activations.view(-1)\n",
    "\n",
    "    def backward(self, x, yhat, y):\n",
    "        # note that here, \"yhat\" are the \"activations\"\n",
    "        netinputs = self.netinput_func(x, self.weights, self.bias)\n",
    "\n",
    "        grad_loss_yhat = 2 * (yhat - y) / y.size(0)\n",
    "        grad_yhat_bias = torch.mm(self.activation_func(netinputs).t(), (1 - self.activation_func(netinputs)))\n",
    "        grad_yhat_weights = torch.mm(self.activation_func(netinputs).t(), (1 - self.activation_func(netinputs))) * x\n",
    "        grad_loss_weights = (torch.matmul(grad_yhat_weights.t(), grad_loss_yhat.view(-1, 1)))\n",
    "        grad_loss_bias = torch.sum(grad_yhat_bias * grad_loss_yhat)\n",
    "\n",
    "        return (-1)*grad_loss_weights, (-1)*grad_loss_bias"
   ]
  },
  {
   "cell_type": "markdown",
   "id": "a3f0d218-26a9-4803-87e3-d5a47b69c491",
   "metadata": {},
   "source": [
    "It's really not worth it to analyse the training and evaluation code here because Pytorch completely changes the game the moment it's used to its fullest potential."
   ]
  },
  {
   "cell_type": "code",
   "execution_count": 4,
   "id": "5a88a9b7-ac2b-4ad7-a7b0-6b4d352305f3",
   "metadata": {},
   "outputs": [
    {
     "name": "stdout",
     "output_type": "stream",
     "text": [
      "--2025-01-31 20:01:15--  https://raw.githubusercontent.com/rasbt/stat479-deep-learning-ss19/refs/heads/master/hw2/datasets/iris.data\n",
      "Loaded CA certificate '/etc/ssl/certs/ca-certificates.crt'\n",
      "185.199.109.133, 185.199.110.133, 185.199.111.133, ...tent.com)... \n",
      "Connecting to raw.githubusercontent.com (raw.githubusercontent.com)|185.199.109.133|:443... connected.\n",
      "200 OKequest sent, awaiting response... \n",
      "Length: 4551 (4.4K) [text/plain]\n",
      "Saving to: ‘iris.data.2’\n",
      "\n",
      "iris.data.2         100%[===================>]   4.44K  --.-KB/s    in 0s      \n",
      "\n",
      "2025-01-31 20:01:15 (91.9 MB/s) - ‘iris.data.2’ saved [4551/4551]\n",
      "\n"
     ]
    }
   ],
   "source": [
    "! wget https://raw.githubusercontent.com/rasbt/stat479-deep-learning-ss19/refs/heads/master/hw2/datasets/iris.data"
   ]
  },
  {
   "cell_type": "code",
   "execution_count": 5,
   "id": "50c967d9-c309-4332-97b1-1bcb083200b0",
   "metadata": {},
   "outputs": [
    {
     "data": {
      "image/png": "[encoded data removed]",
      "text/plain": [
       "<Figure size 640x480 with 1 Axes>"
      ]
     },
     "metadata": {},
     "output_type": "display_data"
    },
    {
     "name": "stdout",
     "output_type": "stream",
     "text": [
      "Weights tensor([[-0.8182],\n",
      "        [ 5.9014]])\n",
      "Bias tensor([0.1258])\n",
      "Training Accuracy: 91.43\n",
      "Test Accuracy: 96.67\n"
     ]
    }
   ],
   "source": [
    "df = pd.read_csv('./iris.data', index_col=None, header=None)\n",
    "df.columns = ['x1', 'x2', 'x3', 'x4', 'y']\n",
    "df = df.iloc[50:150]\n",
    "df['y'] = df['y'].apply(lambda x: 0 if x == 'Iris-versicolor' else 1)\n",
    "\n",
    "# Assign features and target\n",
    "X = torch.tensor(df[['x2', 'x3']].values, dtype=torch.float)\n",
    "y = torch.tensor(df['y'].values, dtype=torch.int)\n",
    "\n",
    "# Shuffling & train/test split\n",
    "torch.manual_seed(123)\n",
    "shuffle_idx = torch.randperm(y.size(0), dtype=torch.long)\n",
    "\n",
    "X, y = X[shuffle_idx], y[shuffle_idx]\n",
    "\n",
    "percent70 = int(shuffle_idx.size(0)*0.7)\n",
    "\n",
    "X_train, X_test = X[shuffle_idx[:percent70]], X[shuffle_idx[percent70:]]\n",
    "y_train, y_test = y[shuffle_idx[:percent70]], y[shuffle_idx[percent70:]]\n",
    "\n",
    "# Normalize (mean zero, unit variance)\n",
    "mu, sigma = X_train.mean(dim=0), X_train.std(dim=0)\n",
    "X_train = (X_train - mu) / sigma\n",
    "X_test = (X_test - mu) / sigma\n",
    "\n",
    "\n",
    "def loss(yhat, y):\n",
    "    return torch.mean((yhat - y)**2) / y.size(0)\n",
    "\n",
    "def train(model, x, y, num_epochs,\n",
    "          learning_rate=0.01, seed=123, minibatch_size=10):\n",
    "    cost = []\n",
    "\n",
    "    torch.manual_seed(seed)\n",
    "    for e in range(num_epochs):\n",
    "\n",
    "        #### Shuffle epoch\n",
    "        shuffle_idx = torch.randperm(y.size(0), dtype=torch.long)\n",
    "        minibatches = torch.split(shuffle_idx, minibatch_size)\n",
    "\n",
    "        for minibatch_idx in minibatches:\n",
    "\n",
    "            #### Compute outputs ####\n",
    "            yhat = model.forward(x[minibatch_idx])\n",
    "\n",
    "            #### Compute gradients ####\n",
    "            negative_grad_w, negative_grad_b = \\\n",
    "                model.backward(x[minibatch_idx], yhat, y[minibatch_idx])\n",
    "\n",
    "            #### Update weights ####\n",
    "            model.weights += learning_rate * negative_grad_w\n",
    "            model.bias += learning_rate * negative_grad_b\n",
    "\n",
    "\n",
    "        #### Logging ####\n",
    "        yhat = model.forward(x)\n",
    "        curr_loss = loss(yhat, y)\n",
    "        # print('Epoch: %03d' % (e+1), end=\"\")\n",
    "        # print(' | MSE: %.5f' % curr_loss)\n",
    "        cost.append(curr_loss)\n",
    "\n",
    "    return cost\n",
    "\n",
    "model = NeuronModel(num_features=X_train.size(1))\n",
    "cost = train(model,\n",
    "             X_train, y_train.float(),\n",
    "             num_epochs=150,\n",
    "             learning_rate=0.5,\n",
    "             seed=123,\n",
    "             minibatch_size=10)\n",
    "\n",
    "plt.plot(range(len(cost)), cost)\n",
    "plt.ylabel('Mean Squared Error')\n",
    "plt.xlabel('Epoch')\n",
    "plt.show()\n",
    "\n",
    "print('Weights', model.weights)\n",
    "print('Bias', model.bias)\n",
    "\n",
    "def custom_where(cond, x_1, x_2):\n",
    "    return (cond * x_1) + ((~cond) * x_2)\n",
    "\n",
    "train_pred = model.forward(X_train)\n",
    "train_acc = torch.mean(\n",
    "    (custom_where(train_pred > 0.5, 1, 0).int() == y_train).float())\n",
    "\n",
    "test_pred = model.forward(X_test)\n",
    "test_acc = torch.mean(\n",
    "    (custom_where(test_pred > 0.5, 1, 0).int() == y_test).float())\n",
    "\n",
    "print('Training Accuracy: %.2f' % (train_acc*100))\n",
    "print('Test Accuracy: %.2f' % (test_acc*100))"
   ]
  },
  {
   "cell_type": "markdown",
   "id": "18d07dc6-7904-4d3f-b512-c4cf12add00f",
   "metadata": {},
   "source": [
    "### Using Pytorch for Backpropagation\n",
    "> I hate maths, so I use the code to get rid of all the maths  \n",
    "> ~ Mr Lim Cheng Chong (2024), probably\n",
    "\n",
    "The entire differentiation nonsense can be forgotten if we just use `torch.grad`. Observe as we completely remove the backwards function.  \n",
    "#### \\_\\_init\\_\\_\n",
    "Note the addition of `required_grad=True` in the definitions for the weights and bias.\n",
    "#### activation_func, netinput_func, forward\n",
    "Completely unchanged!"
   ]
  },
  {
   "cell_type": "code",
   "execution_count": 6,
   "id": "5e431a3a-e96f-4cf0-ae1a-68b465a170f9",
   "metadata": {},
   "outputs": [],
   "source": [
    "class AutoNeuronModel():\n",
    "    def __init__(self, num_features):\n",
    "        self.num_features = num_features\n",
    "        self.weights = torch.zeros(num_features, 1,\n",
    "                                   dtype=torch.float,\n",
    "                                   requires_grad=True)\n",
    "        self.bias = torch.zeros(1, dtype=torch.float,\n",
    "                                requires_grad=True)\n",
    "\n",
    "    def activation_func(self, x): \n",
    "        return 1. / (1. + torch.exp(-x)) # This is the logistic function!\n",
    "\n",
    "    def netinput_func(self, x, w, b):\n",
    "         return torch.add(torch.mm(x, w), b)\n",
    "\n",
    "    def forward(self, x):\n",
    "        netinputs = self.netinput_func(x, self.weights, self.bias)\n",
    "        activations = self.activation_func(netinputs)\n",
    "        return activations.view(-1)"
   ]
  },
  {
   "cell_type": "markdown",
   "id": "23728022-e508-4bc8-9ee9-fe171ecd74ec",
   "metadata": {},
   "source": [
    "Now, we can finally go through the training and testing code.\n",
    "#### loss_func\n",
    "It's just an implementation of MSE loss. Nothing much, in fact we can replace it with proper torch functions when we get to that part later on.\n",
    "#### train\n",
    "For each epoch, split into minibatches of 10. `torch.randperm(n)` returns a random permutations of the natural numbers from 1 to n. In this case, we use it to shuffle the dataset before splitting it into minibatches.  \n",
    "For each batch, \n",
    "- Pass the batch into the model\n",
    "- Compute the loss. Note that so far, all calculations have been done via torch functions on torch tensors, which allow us to...\n",
    "- Use the grad function to automatically backpropogate the gradients for the weights and biases!\n",
    "- Modify the weights and biases. Here we just multiply the gradient by a learning rate and add it, similar to SGD.\n",
    "Finally, in each epoch, calculate the loss for logging."
   ]
  },
  {
   "cell_type": "code",
   "execution_count": 7,
   "id": "17d56352-24d7-47c9-a541-6cd8296c7630",
   "metadata": {},
   "outputs": [],
   "source": [
    "from torch.autograd import grad"
   ]
  },
  {
   "cell_type": "code",
   "execution_count": 8,
   "id": "8d2321eb-ad74-41e7-99bb-95378bc64a50",
   "metadata": {},
   "outputs": [],
   "source": [
    "def loss_func(yhat, y):\n",
    "    return torch.mean((yhat - y)**2) / y.size(0)\n",
    "\n",
    "def train(model, x, y, num_epochs,\n",
    "          learning_rate=0.01, seed=123, minibatch_size=10):\n",
    "    cost = []\n",
    "    \n",
    "    torch.manual_seed(seed)\n",
    "    for e in range(num_epochs):\n",
    "        \n",
    "        #### Shuffle epoch\n",
    "        shuffle_idx = torch.randperm(y.size(0), dtype=torch.long)\n",
    "        minibatches = torch.split(shuffle_idx, minibatch_size)\n",
    "        \n",
    "        for minibatch_idx in minibatches:\n",
    "\n",
    "            #### Compute outputs ####\n",
    "            yhat = model.forward(x[minibatch_idx])\n",
    "            loss = loss_func(yhat, y[minibatch_idx])\n",
    "            \n",
    "            #### Compute gradients ####\n",
    "            \n",
    "            negative_grad_w = grad(loss, model.weights, retain_graph=True)[0] * (-1)\n",
    "            negative_grad_b = grad(loss, model.bias)[0] * (-1)\n",
    "\n",
    "            model.weights = model.weights + learning_rate * negative_grad_w\n",
    "            model.bias = model.bias + learning_rate * negative_grad_b\n",
    "\n",
    "        #### Logging ####\n",
    "        with torch.no_grad():\n",
    "            # context manager to\n",
    "            # avoid building graph during \"inference\"\n",
    "            # to save memory\n",
    "            yhat = model.forward(x)\n",
    "            curr_loss = loss_func(yhat, y)\n",
    "            # print('Epoch: %03d' % (e+1), end=\"\")\n",
    "            # print(' | MSE: %.5f' % curr_loss)\n",
    "            cost.append(curr_loss)\n",
    "\n",
    "    return cost"
   ]
  },
  {
   "cell_type": "markdown",
   "id": "0e0e4834-c760-4e2f-949a-21d1d04bc764",
   "metadata": {},
   "source": [
    "Let's run the model. Using about the same parameters as previously, the result is, unsurprisngly, about the same."
   ]
  },
  {
   "cell_type": "code",
   "execution_count": 9,
   "id": "06b0222e-8775-4db4-a688-8f5809168831",
   "metadata": {},
   "outputs": [
    {
     "data": {
      "image/png": "[encoded data removed]",
      "text/plain": [
       "<Figure size 640x480 with 1 Axes>"
      ]
     },
     "metadata": {},
     "output_type": "display_data"
    },
    {
     "name": "stdout",
     "output_type": "stream",
     "text": [
      "Weights tensor([[-0.2389],\n",
      "        [ 2.3572]], grad_fn=<AddBackward0>)\n",
      "Bias tensor([-0.0184], grad_fn=<AddBackward0>)\n",
      "Training Accuracy: 90.00\n",
      "Test Accuracy: 96.67\n"
     ]
    }
   ],
   "source": [
    "model = AutoNeuronModel(num_features=X_train.size(1))\n",
    "cost = train(model,\n",
    "             X_train, y_train.float(),\n",
    "             num_epochs=150,\n",
    "             learning_rate=0.5,\n",
    "             seed=123,\n",
    "             minibatch_size=10)\n",
    "\n",
    "plt.plot(range(len(cost)), cost)\n",
    "plt.ylabel('Mean Squared Error')\n",
    "plt.xlabel('Epoch')\n",
    "plt.show()\n",
    "\n",
    "print('Weights', model.weights)\n",
    "print('Bias', model.bias)\n",
    "\n",
    "def custom_where(cond, x_1, x_2):\n",
    "    return (cond * x_1) + ((~cond) * x_2)\n",
    "\n",
    "train_pred = model.forward(X_train)\n",
    "train_acc = torch.mean(\n",
    "    (custom_where(train_pred > 0.5, 1, 0).int() == y_train).float())\n",
    "\n",
    "test_pred = model.forward(X_test)\n",
    "test_acc = torch.mean(\n",
    "    (custom_where(test_pred > 0.5, 1, 0).int() == y_test).float())\n",
    "\n",
    "print('Training Accuracy: %.2f' % (train_acc*100))\n",
    "print('Test Accuracy: %.2f' % (test_acc*100))"
   ]
  },
  {
   "cell_type": "markdown",
   "id": "94fb3207-545f-409d-aa3e-aaaf82d583ce",
   "metadata": {},
   "source": [
    "### Further Reading\n",
    "From here, if you're interested in how gradient descent works, jump straight into Deep Learning and go learn about the different gradient descent algorithms like SGD, Adam etc.. Otherwise, if you just want to keep learning the basics and get familiar with the basics before letting Pytorch take control of everything, continue onto the next topics here.\n",
    "\n",
    "### Sources\n",
    "- https://github.com/rasbt/stat479-deep-learning-ss19/blob/master/hw2/hw2.ipynb"
   ]
  }
 ],
 "metadata": {
  "kernelspec": {
   "display_name": "Python 3 (ipykernel)",
   "language": "python",
   "name": "python3"
  },
  "language_info": {
   "codemirror_mode": {
    "name": "ipython",
    "version": 3
   },
   "file_extension": ".py",
   "mimetype": "text/x-python",
   "name": "python",
   "nbconvert_exporter": "python",
   "pygments_lexer": "ipython3",
   "version": "3.13.1"
  }
 },
 "nbformat": 4,
 "nbformat_minor": 5
}
