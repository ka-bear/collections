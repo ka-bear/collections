{
 "cells": [
  {
   "cell_type": "markdown",
   "id": "723de050-30e1-4c5f-90e5-53ae44873ece",
   "metadata": {},
   "source": [
    "# Introduction to Perceptron"
   ]
  },
  {
   "cell_type": "markdown",
   "id": "a39a4862-3424-4d32-9fc5-dd678aab13e6",
   "metadata": {},
   "source": [
    "My aim is to create the most bare-bones introduction to what a perceptron is, with no fluff whatsoever. This means no stories, no history lessons, no unnecessary pros/cons evaluations.  \n",
    "This notebook assumes that you've read the STAT 479 slides in the `Slides` directory.\n",
    "\n",
    "### Learning Aims\n",
    "- Define what a perceptron is, and what its parameters are\n",
    "- Understand the underlying math behind a perceptron implementation\n",
    "- Grasp the intuition of the perceptron learning algorithm"
   ]
  },
  {
   "cell_type": "code",
   "execution_count": 1,
   "id": "b8597a36-4cef-4285-b1c9-393777dd17db",
   "metadata": {},
   "outputs": [
    {
     "name": "stdout",
     "output_type": "stream",
     "text": [
      "Requirement already satisfied: numpy in /home/walnit/Documents/NOAI/.env/lib/python3.13/site-packages (2.2.2)\n",
      "Requirement already satisfied: matplotlib in /home/walnit/Documents/NOAI/.env/lib/python3.13/site-packages (3.10.0)\n",
      "Requirement already satisfied: contourpy>=1.0.1 in /home/walnit/Documents/NOAI/.env/lib/python3.13/site-packages (from matplotlib) (1.3.1)\n",
      "Requirement already satisfied: cycler>=0.10 in /home/walnit/Documents/NOAI/.env/lib/python3.13/site-packages (from matplotlib) (0.12.1)\n",
      "Requirement already satisfied: fonttools>=4.22.0 in /home/walnit/Documents/NOAI/.env/lib/python3.13/site-packages (from matplotlib) (4.55.8)\n",
      "Requirement already satisfied: kiwisolver>=1.3.1 in /home/walnit/Documents/NOAI/.env/lib/python3.13/site-packages (from matplotlib) (1.4.8)\n",
      "Requirement already satisfied: packaging>=20.0 in /home/walnit/Documents/NOAI/.env/lib/python3.13/site-packages (from matplotlib) (24.2)\n",
      "Requirement already satisfied: pillow>=8 in /home/walnit/Documents/NOAI/.env/lib/python3.13/site-packages (from matplotlib) (11.1.0)\n",
      "Requirement already satisfied: pyparsing>=2.3.1 in /home/walnit/Documents/NOAI/.env/lib/python3.13/site-packages (from matplotlib) (3.2.1)\n",
      "Requirement already satisfied: python-dateutil>=2.7 in /home/walnit/Documents/NOAI/.env/lib/python3.13/site-packages (from matplotlib) (2.9.0.post0)\n",
      "Requirement already satisfied: six>=1.5 in /home/walnit/Documents/NOAI/.env/lib/python3.13/site-packages (from python-dateutil>=2.7->matplotlib) (1.17.0)\n"
     ]
    }
   ],
   "source": [
    "! pip install numpy matplotlib"
   ]
  },
  {
   "cell_type": "code",
   "execution_count": 2,
   "id": "9318328b-c8e4-4c7b-9c62-09ff4a47b060",
   "metadata": {},
   "outputs": [],
   "source": [
    "import numpy as np\n",
    "import matplotlib.pyplot as plt"
   ]
  },
  {
   "cell_type": "markdown",
   "id": "d4ba91de-bbe2-45b9-a688-dcf669800592",
   "metadata": {},
   "source": [
    "### Defining the Perceptron\n",
    "\n",
    "Make sure you understand line of code and its function in the codebox below.  \n",
    "It is recommended you revisit the Perceptron Learning Algorithm (slide 28 of `L03_perceptron_slides.pdf`) before reading the code below. \n",
    "\n",
    "#### \\_\\_init\\_\\_\n",
    "- `self.num_features`: Number of features that the perceptron will use to predict the output value. Let this be `i`, so `x_i` is the i-th feature.\n",
    "- `self.weights`: The vector `W`, which must be fitted to the appropriate values through training. Has dimensionality (`i`, 1) because we take the dot product of this and the features.\n",
    "- `self.bias`: The bias. Some refer to this as `w_0` but we implement it as a seperate variable in this example.\n",
    "\n",
    "#### forward\n",
    "Recall that the equation for a perceptron is `activation(W.x + b)`.\n",
    "- `linear`: Calculation of `W.x + b`.\n",
    "- `predictions`: The result of applying our piecewise activation on `linear`. This is now equivalent to the output of the perceptron equation.\n",
    "\n",
    "#### backward\n",
    "Funnily enough, this is not a normal 'backward' function that you would be used to in Pytorch, since it does not train the perceptron as well (that task got delegated to the train function). Don't take this layout by heart, we will have a sample of a Pytorch-worthy perceptron later (for gradient descent).\n",
    "- `predictions`: The output of the perceptron.\n",
    "- `errors`: The difference between the expected result and the predicted result (`y - yhat`). \n",
    "\n",
    "#### train\n",
    "Please don't implement a real Pytorch model like this.  \n",
    "- `x` is a `N`x`i` vector, where `N` is the number of training examples.\n",
    "- `y` is a vector with length `N`.\n",
    "In every epoch, for each training example `n`:\n",
    "- Calculate the error of each training example (the funny reshaping code is for numpy magic to work, ignore that)\n",
    "- Following the Perceptron Learning Algorithm, for each feature `i`, increment `W_i` by `error` * `x_i`. Implementation is vectorized.\n",
    "- Following the Perceptron Learning Algorithm, increment the bias by the error. If you think of bias as `W_0` with constant `x_0 = 1`, this is equivalent to the above.\n",
    "\n",
    "#### evaluate\n",
    "`predictions == y` gives a boolean vector of how many predictions are correct. Dividing by the number of examples gives us the accuracy."
   ]
  },
  {
   "cell_type": "code",
   "execution_count": 3,
   "id": "32e0e750-d672-4e0a-957e-14f8fddd1856",
   "metadata": {},
   "outputs": [],
   "source": [
    "class Perceptron():\n",
    "    def __init__(self, num_features):\n",
    "        self.num_features = num_features\n",
    "        self.weights = np.zeros((num_features, 1), dtype=np.float32)\n",
    "        self.bias = np.zeros(1, dtype=np.float32)\n",
    "\n",
    "    def forward(self, x):\n",
    "        linear = np.dot(x, self.weights) + self.bias\n",
    "        predictions = np.where(linear > 0., 1, 0)\n",
    "        return predictions\n",
    "        \n",
    "    def backward(self, x, y):  \n",
    "        predictions = self.forward(x)\n",
    "        errors = y - predictions\n",
    "        return errors\n",
    "        \n",
    "    def train(self, x, y, epochs):\n",
    "        for e in range(epochs):\n",
    "            \n",
    "            for n in range(y.shape[0]):\n",
    "                errors = self.backward(x[n].reshape(1, self.num_features), y[n]).reshape(-1)\n",
    "                self.weights += (errors * x[n]).reshape(self.num_features, 1)\n",
    "                self.bias += errors\n",
    "                \n",
    "    def evaluate(self, x, y):\n",
    "        predictions = self.forward(x).reshape(-1)\n",
    "        accuracy = np.sum(predictions == y) / y.shape[0]\n",
    "        return accuracy"
   ]
  },
  {
   "cell_type": "markdown",
   "id": "989e96cc-b6b4-4d54-873b-ed2fb413b234",
   "metadata": {},
   "source": [
    "### Testing the 'basic' perceptron\n",
    "You shouldn't need to analyse any of the below unless you're not confident in your CS4132 prerequisites.  \n",
    "The task here is a very simple binary classification task to seperate two clusters. The two features passed into the model are the x and y position of the point. You will see a visualisation of the data in the final codebox."
   ]
  },
  {
   "cell_type": "code",
   "execution_count": 4,
   "id": "fd10ca03-3db7-45e0-b7c5-a53c7634b18c",
   "metadata": {},
   "outputs": [
    {
     "name": "stdout",
     "output_type": "stream",
     "text": [
      "--2025-01-30 21:15:44--  https://github.com/rasbt/stat479-deep-learning-ss19/raw/refs/heads/master/L03_perceptron/code/data/perceptron_toydata.txt\n",
      "Loaded CA certificate '/etc/ssl/certs/ca-certificates.crt'\n",
      "20.205.243.166ub.com (github.com)... \n",
      "Connecting to github.com (github.com)|20.205.243.166|:443... connected.\n",
      "HTTP request sent, awaiting response... 302 Found\n",
      "Location: https://raw.githubusercontent.com/rasbt/stat479-deep-learning-ss19/refs/heads/master/L03_perceptron/code/data/perceptron_toydata.txt [following]\n",
      "--2025-01-30 21:15:45--  https://raw.githubusercontent.com/rasbt/stat479-deep-learning-ss19/refs/heads/master/L03_perceptron/code/data/perceptron_toydata.txt\n",
      "185.199.108.133, 185.199.109.133, 185.199.110.133, ...tent.com)... \n",
      "Connecting to raw.githubusercontent.com (raw.githubusercontent.com)|185.199.108.133|:443... connected.\n",
      "200 OKequest sent, awaiting response... \n",
      "Length: 1287 (1.3K) [text/plain]\n",
      "Saving to: ‘perceptron_toydata.txt.1’\n",
      "\n",
      "perceptron_toydata. 100%[===================>]   1.26K  --.-KB/s    in 0s      \n",
      "\n",
      "2025-01-30 21:15:46 (28.4 MB/s) - ‘perceptron_toydata.txt.1’ saved [1287/1287]\n",
      "\n"
     ]
    }
   ],
   "source": [
    "! wget https://github.com/rasbt/stat479-deep-learning-ss19/raw/refs/heads/master/L03_perceptron/code/data/perceptron_toydata.txt"
   ]
  },
  {
   "cell_type": "code",
   "execution_count": 5,
   "id": "84d02070-3a18-48f9-ad0a-9a865862551c",
   "metadata": {},
   "outputs": [
    {
     "name": "stdout",
     "output_type": "stream",
     "text": [
      "Class label counts: [50 50]\n",
      "X.shape: (100, 2)\n",
      "y.shape: (100,)\n"
     ]
    }
   ],
   "source": [
    "data = np.genfromtxt('perceptron_toydata.txt', delimiter='\\t')\n",
    "X, y = data[:, :2], data[:, 2]\n",
    "y = y.astype(np.int32)\n",
    "\n",
    "print('Class label counts:', np.bincount(y))\n",
    "print('X.shape:', X.shape)\n",
    "print('y.shape:', y.shape)\n",
    "\n",
    "# Shuffling & train/test split\n",
    "shuffle_idx = np.arange(y.shape[0])\n",
    "shuffle_rng = np.random.RandomState(123)\n",
    "shuffle_rng.shuffle(shuffle_idx)\n",
    "X, y = X[shuffle_idx], y[shuffle_idx]\n",
    "\n",
    "X_train, X_test = X[shuffle_idx[:70]], X[shuffle_idx[70:]]\n",
    "y_train, y_test = y[shuffle_idx[:70]], y[shuffle_idx[70:]]\n",
    "\n",
    "# Normalize (mean zero, unit variance)\n",
    "mu, sigma = X_train.mean(axis=0), X_train.std(axis=0)\n",
    "X_train = (X_train - mu) / sigma\n",
    "X_test = (X_test - mu) / sigma"
   ]
  },
  {
   "cell_type": "markdown",
   "id": "67521013-d9e3-46e0-85a8-fc5be4e7e563",
   "metadata": {},
   "source": [
    "Now, we can finally evaluate the performance of this single perceptron."
   ]
  },
  {
   "cell_type": "code",
   "execution_count": 6,
   "id": "a039b630-03f8-471d-b2ff-5c76814c1336",
   "metadata": {},
   "outputs": [
    {
     "name": "stdout",
     "output_type": "stream",
     "text": [
      "Model parameters:\n",
      "\n",
      "\n",
      "  Weights: [[1.2734085]\n",
      " [1.3464228]]\n",
      "\n",
      "  Bias: [-1.]\n",
      "\n",
      "Test set accuracy: 93.33%\n"
     ]
    }
   ],
   "source": [
    "ppn = Perceptron(num_features=2)\n",
    "\n",
    "ppn.train(X_train, y_train, epochs=5)\n",
    "\n",
    "print('Model parameters:\\n\\n')\n",
    "print('  Weights: %s\\n' % ppn.weights)\n",
    "print('  Bias: %s\\n' % ppn.bias)\n",
    "\n",
    "test_acc = ppn.evaluate(X_test, y_test)\n",
    "print('Test set accuracy: %.2f%%' % (test_acc*100))"
   ]
  },
  {
   "cell_type": "markdown",
   "id": "3e13d276-e6ee-4bfb-b72d-eee1ad349532",
   "metadata": {},
   "source": [
    "### Plotting the decision boundary\n",
    "Observe the graph below. You can observe that the perceptron splits the data (almost) cleanly into its two clusters. Since the test accuracy is so high, you'd expect this result. But let's try to grasp the intuition of why this visualisation is even possible.  \n",
    "\n",
    "For the cluster on the right of the line, where the classification is `1`, the value of `Wx + b` must be positive. Similarly, for the cluster on the left, the classification is `0` and hence the value of `Wx + b` must be negative. This is due to our activation function being defined as such. As such, we want to find `Wx + b` = 0 as this would be the boundary between being classified as 0 or 1.  \n",
    "\n",
    "Let `W_0` stand for the weight for the x term, and `W_1` for the weight of the y term. Let `x_0`, and `x_1` be the x and y term respectively.  \n",
    "Since `W` and `x` are vectors, `Wx + b` = `W.x + b` = `W_0 * x_0 + W_1 * x_1 + b`.  \n",
    "Now, if you would forgive the moral trespass of defining a variable twice, we can now redifine the terms in terms of the x- and y- variables that we want to plot.  \n",
    "`W_0 * x_0 + W_1 * x_1 + b` = `W_x*x + W_y*y + b` = `ax + by - c` (equation of a line!) = 0. \n",
    "\n",
    "Solving for y:  \n",
    "- `by = -ax + c`\n",
    "- `y = (-ax + c) / b`\n",
    "- `  = (-(W_x)x + (-b)) / W-y` (with intermediate variable scheme)\n",
    "- `  = (-(W_0*x_0) - b) / W_1` (with original variable scheme)\n",
    "\n",
    "This is exactly the formula used in `y_min` and `y_max` below!"
   ]
  },
  {
   "cell_type": "code",
   "execution_count": 7,
   "id": "8e337975-baec-4b9c-85ec-00614f6a097a",
   "metadata": {},
   "outputs": [
    {
     "data": {
      "image/png": "[encoded data removed]",
      "text/plain": [
       "<Figure size 700x300 with 2 Axes>"
      ]
     },
     "metadata": {},
     "output_type": "display_data"
    }
   ],
   "source": [
    "w, b = ppn.weights, ppn.bias\n",
    "\n",
    "x_min = -2\n",
    "y_min = ( (-(w[0] * x_min) - b[0]) \n",
    "          / w[1] )\n",
    "\n",
    "x_max = 2\n",
    "y_max = ( (-(w[0] * x_max) - b[0]) \n",
    "          / w[1] )\n",
    "\n",
    "\n",
    "fig, ax = plt.subplots(1, 2, sharex=True, figsize=(7, 3))\n",
    "\n",
    "ax[0].plot([x_min, x_max], [y_min, y_max], color=\"red\")\n",
    "ax[1].plot([x_min, x_max], [y_min, y_max], color=\"red\")\n",
    "\n",
    "ax[0].set_title(\"Train set\")\n",
    "ax[0].scatter(X_train[y_train==0, 0], X_train[y_train==0, 1], label='class 0', marker='o')\n",
    "ax[0].scatter(X_train[y_train==1, 0], X_train[y_train==1, 1], label='class 1', marker='s')\n",
    "\n",
    "ax[1].set_title(\"Test set\")\n",
    "ax[1].scatter(X_test[y_test==0, 0], X_test[y_test==0, 1], label='class 0', marker='o')\n",
    "ax[1].scatter(X_test[y_test==1, 0], X_test[y_test==1, 1], label='class 1', marker='s')\n",
    "\n",
    "plt.show()"
   ]
  },
  {
   "cell_type": "markdown",
   "id": "aad2df37-a00e-4414-9034-f51bc1e6f2a0",
   "metadata": {},
   "source": [
    "### Sources\n",
    "- https://github.com/rasbt/stat479-deep-learning-ss19/blob/master/L03_perceptron/code/perceptron-numpy.ipynb (Main source)\n",
    "- https://thomascountz.com/2018/04/13/calculate-decision-boundary-of-perceptron"
   ]
  }
 ],
 "metadata": {
  "kernelspec": {
   "display_name": "Python 3 (ipykernel)",
   "language": "python",
   "name": "python3"
  },
  "language_info": {
   "codemirror_mode": {
    "name": "ipython",
    "version": 3
   },
   "file_extension": ".py",
   "mimetype": "text/x-python",
   "name": "python",
   "nbconvert_exporter": "python",
   "pygments_lexer": "ipython3",
   "version": "3.13.1"
  }
 },
 "nbformat": 4,
 "nbformat_minor": 5
}
