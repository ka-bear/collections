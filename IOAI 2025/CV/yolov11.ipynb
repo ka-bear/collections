{
  "nbformat": 4,
  "nbformat_minor": 0,
  "metadata": {
    "colab": {
      "provenance": [],
      "gpuType": "T4"
    },
    "kernelspec": {
      "name": "python3",
      "display_name": "Python 3"
    },
    "language_info": {
      "name": "python"
    },
    "accelerator": "GPU"
  },
  "cells": [
    {
      "cell_type": "markdown",
      "source": [
        "# YOLOv11 finetuning\n",
        "Training run ~5min on Google Colab T5"
      ],
      "metadata": {
        "id": "XbX6xuQ8bZsj"
      }
    },
    {
      "cell_type": "code",
      "source": [
        "!wget https://github.com/ultralytics/assets/releases/download/v8.3.0/yolo11n-cls.pt"
      ],
      "metadata": {
        "id": "pCqFhalRNfOW"
      },
      "execution_count": null,
      "outputs": []
    },
    {
      "cell_type": "code",
      "source": [
        "!pip install ultralytics"
      ],
      "metadata": {
        "id": "ZUaoNB4ANr1q"
      },
      "execution_count": null,
      "outputs": []
    },
    {
      "cell_type": "code",
      "execution_count": 1,
      "metadata": {
        "colab": {
          "base_uri": "https://localhost:8080/"
        },
        "id": "sdU6-XqwNaiF",
        "outputId": "ee88955a-829f-46e2-c81d-969df7b3c598"
      },
      "outputs": [
        {
          "output_type": "stream",
          "name": "stdout",
          "text": [
            "Files already downloaded and verified\n",
            "Files already downloaded and verified\n",
            "Accuracy on test images: 8.2%\n",
            "[1, 10] loss: 1.524\n",
            "[1, 20] loss: 0.823\n",
            "Accuracy on test images: 78.2%\n",
            "[2, 10] loss: 0.676\n",
            "[2, 20] loss: 0.608\n",
            "Accuracy on test images: 79.2%\n",
            "[3, 10] loss: 0.559\n",
            "[3, 20] loss: 0.548\n",
            "Accuracy on test images: 82.4%\n",
            "[4, 10] loss: 0.516\n",
            "[4, 20] loss: 0.494\n",
            "Accuracy on test images: 82.6%\n",
            "[5, 10] loss: 0.476\n",
            "[5, 20] loss: 0.475\n",
            "Accuracy on test images: 83.8%\n",
            "Finished Training\n",
            "Accuracy on test images: 83.8%\n"
          ]
        }
      ],
      "source": [
        "import torch\n",
        "import torch.nn as nn\n",
        "import torch.optim as optim\n",
        "import torchvision\n",
        "import torchvision.transforms as transforms\n",
        "from torch.utils.data import DataLoader, Subset\n",
        "from ultralytics import YOLO\n",
        "\n",
        "device = torch.device(\"cuda\" if torch.cuda.is_available() else \"cpu\")\n",
        "\n",
        "# Define transforms for CIFAR-10\n",
        "transform = transforms.Compose([\n",
        "    transforms.Resize((224, 224)),\n",
        "    transforms.ToTensor(),\n",
        "    transforms.Normalize((0.5, 0.5, 0.5), (0.5, 0.5, 0.5))\n",
        "])\n",
        "\n",
        "# Load CIFAR-10 dataset\n",
        "trainset = torchvision.datasets.CIFAR10(root='./data', train=True,\n",
        "                                      download=True, transform=transform)\n",
        "subset_indices = torch.randperm(len(trainset))[:20000]  # i have negative patience\n",
        "trainset = Subset(trainset, subset_indices)\n",
        "\n",
        "trainloader = DataLoader(trainset, batch_size=1024, shuffle=True, num_workers=2)\n",
        "\n",
        "testset = torchvision.datasets.CIFAR10(root='./data', train=False,\n",
        "                                     download=True, transform=transform)\n",
        "subset_indices = torch.randperm(len(testset))[:500]\n",
        "testset = Subset(testset, subset_indices)\n",
        "testloader = DataLoader(testset, batch_size=128, shuffle=False, num_workers=2)\n",
        "\n",
        "# Load YOLOv11 model\n",
        "model = YOLO('yolo11n-cls.pt')\n",
        "yolo_model = model.model\n",
        "\n",
        "yolo_model.train()\n",
        "\n",
        "# Freeze all layers except the last one\n",
        "for param in yolo_model.parameters():\n",
        "    param.requires_grad = False\n",
        "\n",
        "yolo_model.model[10].linear = nn.Linear(1280, 10)\n",
        "\n",
        "yolo_model = yolo_model.to(device)\n",
        "criterion = nn.CrossEntropyLoss()\n",
        "optimizer = optim.Adam(yolo_model.model[10].linear.parameters(), lr=0.002, betas=(0.9, 0.999))\n",
        "\n",
        "num_epochs = 5\n",
        "\n",
        "def train():\n",
        "    for epoch in range(num_epochs):\n",
        "        running_loss = 0.0\n",
        "        for i, data in enumerate(trainloader, 0):\n",
        "            inputs, labels = data\n",
        "            inputs, labels = inputs.to(device), labels.to(device)\n",
        "\n",
        "            optimizer.zero_grad()\n",
        "\n",
        "            outputs = yolo_model(inputs)\n",
        "            loss = criterion(outputs, labels)\n",
        "\n",
        "            loss.backward()\n",
        "            optimizer.step()\n",
        "\n",
        "            running_loss += loss.item()\n",
        "            if i%10 == 9:\n",
        "                print(f'[{epoch + 1}, {i + 1}] loss: {running_loss / 10:.3f}')\n",
        "                running_loss = 0.0\n",
        "        evaluate()\n",
        "\n",
        "def evaluate():\n",
        "    correct = 0\n",
        "    total = 0\n",
        "    yolo_model.eval()\n",
        "    with torch.no_grad():\n",
        "        for data in testloader:\n",
        "            images, labels = data\n",
        "            images, labels = images.to(device), labels.to(device)\n",
        "            outputs = yolo_model(images)\n",
        "            _, predicted = torch.max(outputs[0].data, 1)\n",
        "            total += labels.size(0)\n",
        "            correct += (predicted == labels).sum().item()\n",
        "    yolo_model.train()\n",
        "    print(f'Accuracy on test images: {100 * correct / total}%')\n",
        "\n",
        "if __name__ == \"__main__\":\n",
        "    evaluate()\n",
        "    train()"
      ]
    },
    {
      "cell_type": "code",
      "source": [
        "torch.save(yolo_model.state_dict(), 'yolov11_cifar10.pth')"
      ],
      "metadata": {
        "id": "OqfYqZQcbB9P"
      },
      "execution_count": 2,
      "outputs": []
    },
    {
      "cell_type": "code",
      "source": [
        "model = YOLO('yolo11n-cls.pt')\n",
        "yolo_model = model.model\n",
        "yolo_model.model[10].linear = nn.Linear(1280, 10)\n",
        "yolo_model.load_state_dict(torch.load('yolov11_cifar10.pth', map_location=device))\n",
        "yolo_model = yolo_model.to(device)\n",
        "yolo_model.eval()\n",
        "evaluate()"
      ],
      "metadata": {
        "colab": {
          "base_uri": "https://localhost:8080/"
        },
        "id": "Ra3HHtxKbDw4",
        "outputId": "fbe69c0a-dd10-4015-a375-5cf0ec8a36f9"
      },
      "execution_count": 3,
      "outputs": [
        {
          "output_type": "stream",
          "name": "stdout",
          "text": [
            "Accuracy on test images: 83.8%\n"
          ]
        }
      ]
    }
  ]
}