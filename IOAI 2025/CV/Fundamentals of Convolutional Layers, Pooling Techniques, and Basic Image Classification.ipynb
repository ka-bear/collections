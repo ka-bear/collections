{
 "cells": [
  {
   "cell_type": "markdown",
   "id": "a3d5c617-4f2c-48b8-a322-0581dc81c910",
   "metadata": {},
   "source": [
    "<h1>Fundamentals of Convolutional Layers, Pooling Techniques, and Basic Image Classification</h1>\n",
    "\n",
    "<h2>Convolutional Layers</h2>\n",
    "A convolutional layer is the building block of a Convolutional Neural Network (CNN). It works by applying a filter (or kernel) over an input image to extract important features, such as edges, corners, or textures.\n",
    "\n",
    "Concept: A filter slides over the image, and at each step, it performs an element-wise multiplication between the filter values and the corresponding image region. The results are summed up to produce a single output value. This operation is repeated for the entire image, creating a new \"feature map\" that highlights specific patterns.\n",
    "\n",
    "Purpose: The convolution operation helps detect spatial hierarchies in images. For example, the first layer might detect edges, while deeper layers detect complex structures like faces or objects.\n",
    "In the manual implementation, we created a helper function convolve2d() to demonstrate this operation step-by-step using an example image and a kernel.\n",
    "\n"
   ]
  },
  {
   "cell_type": "code",
   "execution_count": 13,
   "id": "4670b934-9d88-44df-ad77-c6451da2328d",
   "metadata": {},
   "outputs": [],
   "source": [
    "# Importing required libraries\n",
    "import numpy as np\n",
    "import matplotlib.pyplot as plt\n",
    "\n",
    "# Helper function for creating 2D convolutions manually\n",
    "def convolve2d(image, kernel):\n",
    "    h, w = image.shape\n",
    "    kh, kw = kernel.shape\n",
    "    output_height = h - kh + 1\n",
    "    output_width = w - kw + 1\n",
    "\n",
    "    convolved_image = np.zeros((output_height, output_width))\n",
    "\n",
    "    for i in range(output_height):\n",
    "        for j in range(output_width):\n",
    "            \n",
    "            convolved_image[i, j] = np.sum(image[i:i+kh, j:j+kw] * kernel)\n",
    "            \n",
    "            # Another method utilising dot product\n",
    "            # Extract the region of the image corresponding to the kernel size\n",
    "            region_flat = image[i:i+kh, j:j+kw].reshape(-1)\n",
    "            kernel_flat = kernel.reshape(-1)   \n",
    "            # Perform dot product between flattened region and kernel\n",
    "            convolved_image[i, j] = np.dot(region_flat, kernel_flat)\n",
    "\n",
    "    return convolved_image"
   ]
  },
  {
   "cell_type": "markdown",
   "id": "5c6ce377-0e5f-40a6-86da-846bff9896ad",
   "metadata": {},
   "source": [
    "<h2>Pooling Techniques</h2>\n",
    "\n",
    "Pooling layers are used to reduce the spatial dimensions of feature maps while retaining their important features. This simplifies computations and reduces overfitting by discarding unnecessary details.\n",
    "\n",
    "<h3>Max Pooling</h3>\n",
    "Takes the maximum value from each region of the feature map. This helps retain the most prominent features and makes the model more robust to minor image variations (e.g., noise).\n",
    "\n",
    "<h3>Average Pooling</h3>\n",
    "Computes the average value in each region. While less common in modern architectures, it can smooth the feature maps."
   ]
  },
  {
   "cell_type": "code",
   "execution_count": 14,
   "id": "82d63a14-902d-4838-a4d1-7d3037ec7c7c",
   "metadata": {},
   "outputs": [],
   "source": [
    "def pooling2d(image, pool_size, stride, mode):\n",
    "    h, w = image.shape\n",
    "    ph, pw = pool_size\n",
    "    output_height = (h - ph) // stride + 1\n",
    "    output_width = (w - pw) // stride + 1\n",
    "\n",
    "    pooled_image = np.zeros((output_height, output_width))\n",
    "\n",
    "    for i in range(0, h - ph + 1, stride):\n",
    "        for j in range(0, w - pw + 1, stride):\n",
    "            region = image[i:i+ph, j:j+pw]\n",
    "            if mode == 'max':\n",
    "                pooled_image[i // stride, j // stride] = np.max(region)\n",
    "            elif mode == 'avg':\n",
    "                pooled_image[i // stride, j // stride] = np.mean(region)\n",
    "    return pooled_image"
   ]
  },
  {
   "cell_type": "markdown",
   "id": "00f74f61-f976-43c2-a647-567d3d6beecd",
   "metadata": {},
   "source": [
    "<h2>Basic Image Classification Using PyTorch</h2>\n",
    "\n",
    "<h3>Building a Simple CNN</h3>\n",
    "<b>Structure of typical Convolutional Neural Network (CNN)</b>\n",
    "<br>Convolutional Layer: Extracts features from input images using filters.</br>\n",
    "ReLU Activation: Introduces non-linearity to allow the network to learn complex patterns.\n",
    "<br>Pooling Layer: Reduces the spatial size of feature maps and focuses on prominent features.</br>\n",
    "Fully Connected Layer: Maps the learned features to the desired output (e.g., classification into categories).\n",
    "\n",
    "<h3>Training a Model</h3>\n",
    "<b>Training involves the following steps:</b>\n",
    "<br>Forward Pass: Input images pass through the model to generate predictions.</br>\n",
    "Loss Computation: The loss function (Cross-Entropy Loss) evaluates how far predictions are from the true labels.\n",
    "<br>Backward Pass: Gradients of the loss with respect to the model parameters are computed using backpropagation.</br>\n",
    "Parameter Update: The optimizer (SGD) updates the model parameters to minimize the loss.\n",
    "\n",
    "<br>The following is a basic example using the MNIST dataset.</br>"
   ]
  },
  {
   "cell_type": "code",
   "execution_count": 15,
   "id": "5e2947d1-019a-4337-b51b-e4a07b901851",
   "metadata": {},
   "outputs": [
    {
     "name": "stderr",
     "output_type": "stream",
     "text": [
      "                                                                                                                       \r"
     ]
    },
    {
     "data": {
      "image/png": "[encoded data removed]",
      "text/plain": [
       "<Figure size 800x500 with 1 Axes>"
      ]
     },
     "metadata": {},
     "output_type": "display_data"
    },
    {
     "name": "stdout",
     "output_type": "stream",
     "text": [
      "Test Accuracy: 98.09%\n"
     ]
    }
   ],
   "source": [
    "# Import PyTorch and related libraries\n",
    "import torch\n",
    "import torch.nn as nn\n",
    "import torchvision.transforms as transforms\n",
    "import torchvision.datasets as datasets\n",
    "from torch.utils.data import DataLoader\n",
    "import matplotlib.pyplot as plt\n",
    "from tqdm import tqdm\n",
    "\n",
    "# Defining a simple CNN for image classification\n",
    "class SimpleCNN(nn.Module):\n",
    "    def __init__(self):\n",
    "        super(SimpleCNN, self).__init__()\n",
    "        self.conv1 = nn.Conv2d(in_channels=1, out_channels=8, kernel_size=3)\n",
    "        self.pool = nn.MaxPool2d(kernel_size=2, stride=2)\n",
    "        self.fc = nn.Linear(8 * 13 * 13, 10)  # Assuming input image size is 28x28\n",
    "\n",
    "    def forward(self, x):\n",
    "        x = self.conv1(x)\n",
    "        x = self.pool(torch.relu(x))\n",
    "        x = x.view(-1, 8 * 13 * 13)\n",
    "        x = self.fc(x)\n",
    "        return x\n",
    "\n",
    "# Preparing dataset and DataLoader\n",
    "transform = transforms.Compose([\n",
    "    transforms.ToTensor(),\n",
    "    transforms.Normalize((0.5,), (0.5,))\n",
    "])\n",
    "\n",
    "data_train = datasets.MNIST(root=\"./data\", train=True, transform=transform, download=True)\n",
    "data_test = datasets.MNIST(root=\"./data\", train=False, transform=transform, download=True)\n",
    "\n",
    "data_loader_train = DataLoader(data_train, batch_size=16, shuffle=True)\n",
    "data_loader_test = DataLoader(data_test, batch_size=16, shuffle=False)\n",
    "\n",
    "# Initializing the CNN model\n",
    "model = SimpleCNN()\n",
    "criterion = nn.CrossEntropyLoss()\n",
    "optimizer = torch.optim.SGD(model.parameters(), lr=0.01)\n",
    "\n",
    "# Training loop\n",
    "num_epochs = 10  # Set the number of epochs\n",
    "loss_values = []  # List to store loss values\n",
    "\n",
    "for epoch in range(num_epochs):\n",
    "    epoch_loss = 0.0\n",
    "    progress_bar = tqdm(data_loader_train, desc=f\"Epoch {epoch+1}/{num_epochs}\", leave=False)\n",
    "    \n",
    "    for images, labels in progress_bar:\n",
    "        # Forward pass\n",
    "        outputs = model(images)\n",
    "        loss = criterion(outputs, labels)\n",
    "\n",
    "        # Backward pass and optimization\n",
    "        optimizer.zero_grad()\n",
    "        loss.backward()\n",
    "        optimizer.step()\n",
    "\n",
    "        epoch_loss += loss.item()\n",
    "        progress_bar.set_postfix(loss=loss.item())\n",
    "    \n",
    "    loss_values.append(epoch_loss / len(data_loader_train))  # Store average loss per epoch\n",
    "\n",
    "# Plot loss curve\n",
    "plt.figure(figsize=(8, 5))\n",
    "plt.plot(range(1, num_epochs + 1), loss_values, marker='o', linestyle='-')\n",
    "plt.xlabel(\"Epoch\")\n",
    "plt.ylabel(\"Loss\")\n",
    "plt.title(\"Training Loss Curve\")\n",
    "plt.grid()\n",
    "plt.show()\n",
    "\n",
    "# Evaluation loop\n",
    "def evaluate_model(model, data_loader):\n",
    "    model.eval()  # Set model to evaluation mode\n",
    "    total = 0\n",
    "    correct = 0\n",
    "    with torch.no_grad():\n",
    "        for images, labels in data_loader:\n",
    "            outputs = model(images)\n",
    "            _, predicted = torch.max(outputs, 1)\n",
    "            total += labels.size(0)\n",
    "            correct += (predicted == labels).sum().item()\n",
    "    accuracy = 100 * correct / total\n",
    "    return accuracy\n",
    "\n",
    "accuracy = evaluate_model(model, data_loader_test)\n",
    "print(f\"Test Accuracy: {accuracy:.2f}%\")\n"
   ]
  }
 ],
 "metadata": {
  "kernelspec": {
   "display_name": "Python 3 (ipykernel)",
   "language": "python",
   "name": "python3"
  },
  "language_info": {
   "codemirror_mode": {
    "name": "ipython",
    "version": 3
   },
   "file_extension": ".py",
   "mimetype": "text/x-python",
   "name": "python",
   "nbconvert_exporter": "python",
   "pygments_lexer": "ipython3",
   "version": "3.12.0"
  }
 },
 "nbformat": 4,
 "nbformat_minor": 5
}
