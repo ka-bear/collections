{
 "cells": [
  {
   "cell_type": "code",
   "execution_count": null,
   "id": "f12b574b",
   "metadata": {
    "vscode": {
     "languageId": "plaintext"
    }
   },
   "outputs": [],
   "source": [
    "from diffusers import StableDiffusionPipeline\n",
    "import torch\n",
    "\n",
    "# Load pre-trained Stable Diffusion model\n",
    "pipe = StableDiffusionPipeline.from_pretrained(\"CompVis/stable-diffusion-v1-4-original\", \n",
    "                                                torch_dtype=torch.float16)\n",
    "pipe.to(\"cuda\")\n",
    "\n",
    "# Generate an image from a text prompt\n",
    "prompt = \"A futuristic cityscape at sunset\"\n",
    "image = pipe(prompt).images[0]\n",
    "\n",
    "# Save or display the image\n",
    "image.save(\"output.png\")\n",
    "image.show()"
   ]
  },
  {
   "cell_type": "code",
   "execution_count": null,
   "id": "82ee5de9",
   "metadata": {
    "vscode": {
     "languageId": "plaintext"
    }
   },
   "outputs": [],
   "source": [
    "import openai\n",
    "import requests\n",
    "from PIL import Image\n",
    "from io import BytesIO\n",
    "import os\n",
    "\n",
    "# Set your OpenAI API key\n",
    "openai.api_key = os.getenv('OPENAI_API_KEY')\n",
    "\n",
    "# Generate an image using DALL-E\n",
    "response = openai.Image.create(\n",
    "    prompt=\"a futuristic cityscape at sunset\",  # Your prompt here\n",
    "    n=1,  # Number of images to generate\n",
    "    size=\"1024x1024\"  # Size of the image\n",
    ")\n",
    "\n",
    "# Extract the image URL from the response\n",
    "image_url = response['data'][0]['url']\n",
    "\n",
    "print(\"Generated Image URL:\", image_url)\n",
    "\n",
    "# Download the image from the URL\n",
    "image_response = requests.get(image_url)\n",
    "\n",
    "# Open the image using PIL\n",
    "image = Image.open(BytesIO(image_response.content))\n",
    "\n",
    "# Save the image to a file\n",
    "image.save(\"generated_image.png\")\n",
    "\n",
    "# Optionally, display the image\n",
    "image.show()"
   ]
  }
 ],
 "metadata": {
  "kernelspec": {
   "display_name": "Python 3 (ipykernel)",
   "language": "python",
   "name": "python3"
  },
  "language_info": {
   "codemirror_mode": {
    "name": "ipython",
    "version": 3
   },
   "file_extension": ".py",
   "mimetype": "text/x-python",
   "name": "python",
   "nbconvert_exporter": "python",
   "pygments_lexer": "ipython3",
   "version": "3.12.0"
  }
 },
 "nbformat": 4,
 "nbformat_minor": 5
}
